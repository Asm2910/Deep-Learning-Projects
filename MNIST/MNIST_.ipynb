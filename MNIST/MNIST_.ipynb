{
  "nbformat": 4,
  "nbformat_minor": 0,
  "metadata": {
    "colab": {
      "name": "MNIST .ipynb",
      "provenance": [],
      "collapsed_sections": []
    },
    "kernelspec": {
      "name": "python3",
      "display_name": "Python 3"
    },
    "accelerator": "GPU"
  },
  "cells": [
    {
      "cell_type": "code",
      "metadata": {
        "id": "jPj6WMyPI3Up"
      },
      "source": [
        "import torch\r\n",
        "import torchvision\r\n",
        "from torchvision.datasets import MNIST"
      ],
      "execution_count": 57,
      "outputs": []
    },
    {
      "cell_type": "code",
      "metadata": {
        "id": "sT0y8rE8JJmS"
      },
      "source": [
        "dataset = MNIST(root='data/', download=True)"
      ],
      "execution_count": 32,
      "outputs": []
    },
    {
      "cell_type": "code",
      "metadata": {
        "colab": {
          "base_uri": "https://localhost:8080/"
        },
        "id": "_YXCiXkBJQk5",
        "outputId": "8385c5e6-63f6-499b-c65b-a8d6ccfd5895"
      },
      "source": [
        "len(dataset)"
      ],
      "execution_count": 33,
      "outputs": [
        {
          "output_type": "execute_result",
          "data": {
            "text/plain": [
              "60000"
            ]
          },
          "metadata": {
            "tags": []
          },
          "execution_count": 33
        }
      ]
    },
    {
      "cell_type": "code",
      "metadata": {
        "colab": {
          "base_uri": "https://localhost:8080/"
        },
        "id": "lXskrl1MJUYn",
        "outputId": "66b56e5b-443a-41fa-fbc4-465ca5fc53c4"
      },
      "source": [
        "test_dataset = MNIST(root='data/', train=False)\r\n",
        "len(test_dataset)"
      ],
      "execution_count": 34,
      "outputs": [
        {
          "output_type": "execute_result",
          "data": {
            "text/plain": [
              "10000"
            ]
          },
          "metadata": {
            "tags": []
          },
          "execution_count": 34
        }
      ]
    },
    {
      "cell_type": "code",
      "metadata": {
        "colab": {
          "base_uri": "https://localhost:8080/"
        },
        "id": "h77qDehFJjA7",
        "outputId": "b1925b12-defa-4000-fe2e-f3171060539b"
      },
      "source": [
        "dataset[0]"
      ],
      "execution_count": 35,
      "outputs": [
        {
          "output_type": "execute_result",
          "data": {
            "text/plain": [
              "(<PIL.Image.Image image mode=L size=28x28 at 0x7FD6A9B1EEF0>, 5)"
            ]
          },
          "metadata": {
            "tags": []
          },
          "execution_count": 35
        }
      ]
    },
    {
      "cell_type": "code",
      "metadata": {
        "id": "_KA8iqrlJlSH"
      },
      "source": [
        "import matplotlib.pyplot as plt\r\n",
        "%matplotlib inline"
      ],
      "execution_count": 36,
      "outputs": []
    },
    {
      "cell_type": "code",
      "metadata": {
        "colab": {
          "base_uri": "https://localhost:8080/",
          "height": 283
        },
        "id": "BHgqBggKJqny",
        "outputId": "a9d2bdd2-1536-4163-ffdb-7386e42dedcc"
      },
      "source": [
        "image,label = dataset[10]\r\n",
        "plt.imshow(image, cmap='gray')\r\n",
        "print('Label:', label )"
      ],
      "execution_count": 37,
      "outputs": [
        {
          "output_type": "stream",
          "text": [
            "Label: 3\n"
          ],
          "name": "stdout"
        },
        {
          "output_type": "display_data",
          "data": {
            "image/png": "[encoded data removed]",
            "text/plain": [
              "<Figure size 432x288 with 1 Axes>"
            ]
          },
          "metadata": {
            "tags": [],
            "needs_background": "light"
          }
        }
      ]
    },
    {
      "cell_type": "code",
      "metadata": {
        "id": "uvNn8krlJ6qe"
      },
      "source": [
        "import torchvision.transforms as transforms"
      ],
      "execution_count": 38,
      "outputs": []
    },
    {
      "cell_type": "code",
      "metadata": {
        "id": "m67ZpsXfKDCy"
      },
      "source": [
        "dataset = MNIST(root='data/',\r\n",
        "                train =True,\r\n",
        "                transform=transforms.ToTensor())"
      ],
      "execution_count": 39,
      "outputs": []
    },
    {
      "cell_type": "code",
      "metadata": {
        "colab": {
          "base_uri": "https://localhost:8080/"
        },
        "id": "YI-h9RA4KQW9",
        "outputId": "f94961e5-5bb7-4b00-e106-8754f2f715c0"
      },
      "source": [
        "img_tensor, label = dataset[0]\r\n",
        "print(img_tensor.shape,label)"
      ],
      "execution_count": 40,
      "outputs": [
        {
          "output_type": "stream",
          "text": [
            "torch.Size([1, 28, 28]) 5\n"
          ],
          "name": "stdout"
        }
      ]
    },
    {
      "cell_type": "code",
      "metadata": {
        "colab": {
          "base_uri": "https://localhost:8080/",
          "height": 265
        },
        "id": "jnsp49w1KhZB",
        "outputId": "818e25d8-2675-4ad3-ea7c-f646ec32068e"
      },
      "source": [
        "plt.imshow(img_tensor[0,10:15, 10:15], cmap='gray');"
      ],
      "execution_count": 41,
      "outputs": [
        {
          "output_type": "display_data",
          "data": {
            "image/png": "[encoded data removed]",
            "text/plain": [
              "<Figure size 432x288 with 1 Axes>"
            ]
          },
          "metadata": {
            "tags": [],
            "needs_background": "light"
          }
        }
      ]
    },
    {
      "cell_type": "code",
      "metadata": {
        "colab": {
          "base_uri": "https://localhost:8080/"
        },
        "id": "Z31KVIZyKzF8",
        "outputId": "5b64689a-5b68-452f-9b79-844df55e425b"
      },
      "source": [
        "from torch.utils.data import random_split\r\n",
        "\r\n",
        "train_ds, val_ds = random_split(dataset, [50000, 10000])\r\n",
        "len(train_ds), len(val_ds)"
      ],
      "execution_count": 42,
      "outputs": [
        {
          "output_type": "execute_result",
          "data": {
            "text/plain": [
              "(50000, 10000)"
            ]
          },
          "metadata": {
            "tags": []
          },
          "execution_count": 42
        }
      ]
    },
    {
      "cell_type": "code",
      "metadata": {
        "id": "mJtH9lrDLHY-"
      },
      "source": [
        "from torch.utils.data import DataLoader\r\n",
        "\r\n",
        "batch_size = 128\r\n",
        "train_loader = DataLoader(train_ds, batch_size, shuffle=True)\r\n",
        "val_loader = DataLoader(val_ds, batch_size)"
      ],
      "execution_count": 43,
      "outputs": []
    },
    {
      "cell_type": "code",
      "metadata": {
        "id": "LP7JblQmLdph"
      },
      "source": [
        "import torch.nn as nn\r\n",
        "\r\n",
        "input_size = 28*28\r\n",
        "num_classes = 10\r\n",
        "\r\n",
        "model = nn.Linear(input_size, num_classes)"
      ],
      "execution_count": 44,
      "outputs": []
    },
    {
      "cell_type": "code",
      "metadata": {
        "colab": {
          "base_uri": "https://localhost:8080/"
        },
        "id": "Idaj-2znMV7t",
        "outputId": "3ff96c9e-a3f9-4af7-ae0a-46d25a942fd8"
      },
      "source": [
        "print(model.weight.shape)"
      ],
      "execution_count": 45,
      "outputs": [
        {
          "output_type": "stream",
          "text": [
            "torch.Size([10, 784])\n"
          ],
          "name": "stdout"
        }
      ]
    },
    {
      "cell_type": "code",
      "metadata": {
        "colab": {
          "base_uri": "https://localhost:8080/"
        },
        "id": "P4a3ebCmMb9t",
        "outputId": "fc9d48bf-edca-4baa-ed5c-579922301a7a"
      },
      "source": [
        "model.weight"
      ],
      "execution_count": 46,
      "outputs": [
        {
          "output_type": "execute_result",
          "data": {
            "text/plain": [
              "Parameter containing:\n",
              "tensor([[-0.0168,  0.0257,  0.0318,  ..., -0.0175,  0.0197, -0.0146],\n",
              "        [ 0.0281, -0.0323,  0.0292,  ...,  0.0052, -0.0336,  0.0249],\n",
              "        [-0.0186, -0.0236,  0.0124,  ...,  0.0059,  0.0187, -0.0149],\n",
              "        ...,\n",
              "        [ 0.0283, -0.0269, -0.0319,  ..., -0.0099,  0.0042, -0.0045],\n",
              "        [-0.0073,  0.0163,  0.0090,  ..., -0.0129,  0.0318,  0.0159],\n",
              "        [ 0.0206,  0.0097, -0.0004,  ..., -0.0306,  0.0198, -0.0225]],\n",
              "       requires_grad=True)"
            ]
          },
          "metadata": {
            "tags": []
          },
          "execution_count": 46
        }
      ]
    },
    {
      "cell_type": "code",
      "metadata": {
        "colab": {
          "base_uri": "https://localhost:8080/"
        },
        "id": "q37bYV_gMdvL",
        "outputId": "f6acf0cc-6179-4f5a-d1dd-b2cc7f6de36f"
      },
      "source": [
        "print(model.bias.shape)\r\n",
        "model.bias"
      ],
      "execution_count": 47,
      "outputs": [
        {
          "output_type": "stream",
          "text": [
            "torch.Size([10])\n"
          ],
          "name": "stdout"
        },
        {
          "output_type": "execute_result",
          "data": {
            "text/plain": [
              "Parameter containing:\n",
              "tensor([-0.0239, -0.0109,  0.0301, -0.0173, -0.0324, -0.0127, -0.0086,  0.0209,\n",
              "         0.0135,  0.0057], requires_grad=True)"
            ]
          },
          "metadata": {
            "tags": []
          },
          "execution_count": 47
        }
      ]
    },
    {
      "cell_type": "code",
      "metadata": {
        "colab": {
          "base_uri": "https://localhost:8080/",
          "height": 512
        },
        "id": "YVdQ-8OZMlVl",
        "outputId": "e68961e0-db43-4926-eda3-7136b08d13f9"
      },
      "source": [
        "for images, labels in train_loader:\r\n",
        "  print(labels)\r\n",
        "  print(images.shape)\r\n",
        "  outputs = model(images)\r\n",
        "  print(outputs)\r\n",
        "  break\r\n"
      ],
      "execution_count": 48,
      "outputs": [
        {
          "output_type": "stream",
          "text": [
            "tensor([8, 3, 5, 0, 7, 0, 2, 3, 7, 8, 1, 1, 0, 1, 0, 3, 3, 3, 6, 5, 4, 7, 2, 3,\n",
            "        2, 9, 1, 6, 1, 6, 8, 8, 6, 6, 2, 1, 5, 5, 8, 3, 2, 9, 8, 4, 6, 0, 1, 1,\n",
            "        9, 0, 8, 8, 4, 1, 5, 4, 7, 0, 1, 3, 1, 5, 1, 7, 0, 1, 7, 9, 3, 0, 6, 2,\n",
            "        1, 9, 2, 1, 8, 6, 1, 1, 4, 4, 0, 5, 3, 0, 3, 5, 0, 9, 3, 1, 7, 5, 7, 1,\n",
            "        7, 8, 5, 0, 2, 1, 8, 1, 2, 9, 6, 9, 0, 3, 4, 3, 5, 3, 9, 2, 3, 4, 5, 5,\n",
            "        6, 7, 6, 2, 5, 3, 0, 6])\n",
            "torch.Size([128, 1, 28, 28])\n"
          ],
          "name": "stdout"
        },
        {
          "output_type": "error",
          "ename": "RuntimeError",
          "evalue": "ignored",
          "traceback": [
            "\u001b[0;31m---------------------------------------------------------------------------\u001b[0m",
            "\u001b[0;31mRuntimeError\u001b[0m                              Traceback (most recent call last)",
            "\u001b[0;32m<ipython-input-48-5ece45fcfb37>\u001b[0m in \u001b[0;36m<module>\u001b[0;34m()\u001b[0m\n\u001b[1;32m      2\u001b[0m   \u001b[0mprint\u001b[0m\u001b[0;34m(\u001b[0m\u001b[0mlabels\u001b[0m\u001b[0;34m)\u001b[0m\u001b[0;34m\u001b[0m\u001b[0;34m\u001b[0m\u001b[0m\n\u001b[1;32m      3\u001b[0m   \u001b[0mprint\u001b[0m\u001b[0;34m(\u001b[0m\u001b[0mimages\u001b[0m\u001b[0;34m.\u001b[0m\u001b[0mshape\u001b[0m\u001b[0;34m)\u001b[0m\u001b[0;34m\u001b[0m\u001b[0;34m\u001b[0m\u001b[0m\n\u001b[0;32m----> 4\u001b[0;31m   \u001b[0moutputs\u001b[0m \u001b[0;34m=\u001b[0m \u001b[0mmodel\u001b[0m\u001b[0;34m(\u001b[0m\u001b[0mimages\u001b[0m\u001b[0;34m)\u001b[0m\u001b[0;34m\u001b[0m\u001b[0;34m\u001b[0m\u001b[0m\n\u001b[0m\u001b[1;32m      5\u001b[0m   \u001b[0mprint\u001b[0m\u001b[0;34m(\u001b[0m\u001b[0moutputs\u001b[0m\u001b[0;34m)\u001b[0m\u001b[0;34m\u001b[0m\u001b[0;34m\u001b[0m\u001b[0m\n\u001b[1;32m      6\u001b[0m   \u001b[0;32mbreak\u001b[0m\u001b[0;34m\u001b[0m\u001b[0;34m\u001b[0m\u001b[0m\n",
            "\u001b[0;32m/usr/local/lib/python3.6/dist-packages/torch/nn/modules/module.py\u001b[0m in \u001b[0;36m_call_impl\u001b[0;34m(self, *input, **kwargs)\u001b[0m\n\u001b[1;32m    725\u001b[0m             \u001b[0mresult\u001b[0m \u001b[0;34m=\u001b[0m \u001b[0mself\u001b[0m\u001b[0;34m.\u001b[0m\u001b[0m_slow_forward\u001b[0m\u001b[0;34m(\u001b[0m\u001b[0;34m*\u001b[0m\u001b[0minput\u001b[0m\u001b[0;34m,\u001b[0m \u001b[0;34m**\u001b[0m\u001b[0mkwargs\u001b[0m\u001b[0;34m)\u001b[0m\u001b[0;34m\u001b[0m\u001b[0;34m\u001b[0m\u001b[0m\n\u001b[1;32m    726\u001b[0m         \u001b[0;32melse\u001b[0m\u001b[0;34m:\u001b[0m\u001b[0;34m\u001b[0m\u001b[0;34m\u001b[0m\u001b[0m\n\u001b[0;32m--> 727\u001b[0;31m             \u001b[0mresult\u001b[0m \u001b[0;34m=\u001b[0m \u001b[0mself\u001b[0m\u001b[0;34m.\u001b[0m\u001b[0mforward\u001b[0m\u001b[0;34m(\u001b[0m\u001b[0;34m*\u001b[0m\u001b[0minput\u001b[0m\u001b[0;34m,\u001b[0m \u001b[0;34m**\u001b[0m\u001b[0mkwargs\u001b[0m\u001b[0;34m)\u001b[0m\u001b[0;34m\u001b[0m\u001b[0;34m\u001b[0m\u001b[0m\n\u001b[0m\u001b[1;32m    728\u001b[0m         for hook in itertools.chain(\n\u001b[1;32m    729\u001b[0m                 \u001b[0m_global_forward_hooks\u001b[0m\u001b[0;34m.\u001b[0m\u001b[0mvalues\u001b[0m\u001b[0;34m(\u001b[0m\u001b[0;34m)\u001b[0m\u001b[0;34m,\u001b[0m\u001b[0;34m\u001b[0m\u001b[0;34m\u001b[0m\u001b[0m\n",
            "\u001b[0;32m/usr/local/lib/python3.6/dist-packages/torch/nn/modules/linear.py\u001b[0m in \u001b[0;36mforward\u001b[0;34m(self, input)\u001b[0m\n\u001b[1;32m     91\u001b[0m \u001b[0;34m\u001b[0m\u001b[0m\n\u001b[1;32m     92\u001b[0m     \u001b[0;32mdef\u001b[0m \u001b[0mforward\u001b[0m\u001b[0;34m(\u001b[0m\u001b[0mself\u001b[0m\u001b[0;34m,\u001b[0m \u001b[0minput\u001b[0m\u001b[0;34m:\u001b[0m \u001b[0mTensor\u001b[0m\u001b[0;34m)\u001b[0m \u001b[0;34m->\u001b[0m \u001b[0mTensor\u001b[0m\u001b[0;34m:\u001b[0m\u001b[0;34m\u001b[0m\u001b[0;34m\u001b[0m\u001b[0m\n\u001b[0;32m---> 93\u001b[0;31m         \u001b[0;32mreturn\u001b[0m \u001b[0mF\u001b[0m\u001b[0;34m.\u001b[0m\u001b[0mlinear\u001b[0m\u001b[0;34m(\u001b[0m\u001b[0minput\u001b[0m\u001b[0;34m,\u001b[0m \u001b[0mself\u001b[0m\u001b[0;34m.\u001b[0m\u001b[0mweight\u001b[0m\u001b[0;34m,\u001b[0m \u001b[0mself\u001b[0m\u001b[0;34m.\u001b[0m\u001b[0mbias\u001b[0m\u001b[0;34m)\u001b[0m\u001b[0;34m\u001b[0m\u001b[0;34m\u001b[0m\u001b[0m\n\u001b[0m\u001b[1;32m     94\u001b[0m \u001b[0;34m\u001b[0m\u001b[0m\n\u001b[1;32m     95\u001b[0m     \u001b[0;32mdef\u001b[0m \u001b[0mextra_repr\u001b[0m\u001b[0;34m(\u001b[0m\u001b[0mself\u001b[0m\u001b[0;34m)\u001b[0m \u001b[0;34m->\u001b[0m \u001b[0mstr\u001b[0m\u001b[0;34m:\u001b[0m\u001b[0;34m\u001b[0m\u001b[0;34m\u001b[0m\u001b[0m\n",
            "\u001b[0;32m/usr/local/lib/python3.6/dist-packages/torch/nn/functional.py\u001b[0m in \u001b[0;36mlinear\u001b[0;34m(input, weight, bias)\u001b[0m\n\u001b[1;32m   1690\u001b[0m         \u001b[0mret\u001b[0m \u001b[0;34m=\u001b[0m \u001b[0mtorch\u001b[0m\u001b[0;34m.\u001b[0m\u001b[0maddmm\u001b[0m\u001b[0;34m(\u001b[0m\u001b[0mbias\u001b[0m\u001b[0;34m,\u001b[0m \u001b[0minput\u001b[0m\u001b[0;34m,\u001b[0m \u001b[0mweight\u001b[0m\u001b[0;34m.\u001b[0m\u001b[0mt\u001b[0m\u001b[0;34m(\u001b[0m\u001b[0;34m)\u001b[0m\u001b[0;34m)\u001b[0m\u001b[0;34m\u001b[0m\u001b[0;34m\u001b[0m\u001b[0m\n\u001b[1;32m   1691\u001b[0m     \u001b[0;32melse\u001b[0m\u001b[0;34m:\u001b[0m\u001b[0;34m\u001b[0m\u001b[0;34m\u001b[0m\u001b[0m\n\u001b[0;32m-> 1692\u001b[0;31m         \u001b[0moutput\u001b[0m \u001b[0;34m=\u001b[0m \u001b[0minput\u001b[0m\u001b[0;34m.\u001b[0m\u001b[0mmatmul\u001b[0m\u001b[0;34m(\u001b[0m\u001b[0mweight\u001b[0m\u001b[0;34m.\u001b[0m\u001b[0mt\u001b[0m\u001b[0;34m(\u001b[0m\u001b[0;34m)\u001b[0m\u001b[0;34m)\u001b[0m\u001b[0;34m\u001b[0m\u001b[0;34m\u001b[0m\u001b[0m\n\u001b[0m\u001b[1;32m   1693\u001b[0m         \u001b[0;32mif\u001b[0m \u001b[0mbias\u001b[0m \u001b[0;32mis\u001b[0m \u001b[0;32mnot\u001b[0m \u001b[0;32mNone\u001b[0m\u001b[0;34m:\u001b[0m\u001b[0;34m\u001b[0m\u001b[0;34m\u001b[0m\u001b[0m\n\u001b[1;32m   1694\u001b[0m             \u001b[0moutput\u001b[0m \u001b[0;34m+=\u001b[0m \u001b[0mbias\u001b[0m\u001b[0;34m\u001b[0m\u001b[0;34m\u001b[0m\u001b[0m\n",
            "\u001b[0;31mRuntimeError\u001b[0m: mat1 and mat2 shapes cannot be multiplied (3584x28 and 784x10)"
          ]
        }
      ]
    },
    {
      "cell_type": "code",
      "metadata": {
        "colab": {
          "base_uri": "https://localhost:8080/"
        },
        "id": "beb--pP5M15R",
        "outputId": "f0a898db-7588-47b8-824c-812d3a8e8fdf"
      },
      "source": [
        "images.shape"
      ],
      "execution_count": 49,
      "outputs": [
        {
          "output_type": "execute_result",
          "data": {
            "text/plain": [
              "torch.Size([128, 1, 28, 28])"
            ]
          },
          "metadata": {
            "tags": []
          },
          "execution_count": 49
        }
      ]
    },
    {
      "cell_type": "code",
      "metadata": {
        "colab": {
          "base_uri": "https://localhost:8080/"
        },
        "id": "xJlWkUW3NK5n",
        "outputId": "a8e2b2e7-143d-478f-c402-70ad9274e7df"
      },
      "source": [
        "images.reshape(128,784).shape"
      ],
      "execution_count": 50,
      "outputs": [
        {
          "output_type": "execute_result",
          "data": {
            "text/plain": [
              "torch.Size([128, 784])"
            ]
          },
          "metadata": {
            "tags": []
          },
          "execution_count": 50
        }
      ]
    },
    {
      "cell_type": "code",
      "metadata": {
        "id": "HtTreF3VNOq_"
      },
      "source": [
        "class MnistModel(nn.Module):\r\n",
        "    def __init__(self):\r\n",
        "      super().__init__()\r\n",
        "      self.linear = nn.Linear(input_size, num_classes)\r\n",
        "\r\n",
        "    def forward(self,xb):\r\n",
        "      xb = xb.reshape(-1, 784)\r\n",
        "      out = self.linear(xb)\r\n",
        "      return out\r\n",
        "\r\n",
        "model = MnistModel()"
      ],
      "execution_count": 51,
      "outputs": []
    },
    {
      "cell_type": "code",
      "metadata": {
        "colab": {
          "base_uri": "https://localhost:8080/"
        },
        "id": "tFRait7pP9Gh",
        "outputId": "53344811-4d41-4054-b4bb-64b44f69b889"
      },
      "source": [
        "print(model.linear.weight.shape, model.linear.bias.shape)\r\n",
        "list(model.parameters())"
      ],
      "execution_count": 52,
      "outputs": [
        {
          "output_type": "stream",
          "text": [
            "torch.Size([10, 784]) torch.Size([10])\n"
          ],
          "name": "stdout"
        },
        {
          "output_type": "execute_result",
          "data": {
            "text/plain": [
              "[Parameter containing:\n",
              " tensor([[-0.0024, -0.0170, -0.0183,  ...,  0.0207,  0.0261,  0.0071],\n",
              "         [-0.0305,  0.0147,  0.0097,  ...,  0.0301,  0.0121, -0.0240],\n",
              "         [-0.0149, -0.0296, -0.0272,  ..., -0.0194,  0.0123,  0.0171],\n",
              "         ...,\n",
              "         [ 0.0201, -0.0100,  0.0083,  ..., -0.0162,  0.0072,  0.0328],\n",
              "         [-0.0209, -0.0055, -0.0337,  ..., -0.0049, -0.0089, -0.0016],\n",
              "         [ 0.0299, -0.0163,  0.0072,  ..., -0.0076, -0.0159, -0.0060]],\n",
              "        requires_grad=True), Parameter containing:\n",
              " tensor([ 0.0242,  0.0239,  0.0006, -0.0313, -0.0074,  0.0086, -0.0264,  0.0184,\n",
              "          0.0219, -0.0187], requires_grad=True)]"
            ]
          },
          "metadata": {
            "tags": []
          },
          "execution_count": 52
        }
      ]
    },
    {
      "cell_type": "code",
      "metadata": {
        "colab": {
          "base_uri": "https://localhost:8080/"
        },
        "id": "Kn3X2_w6QW_M",
        "outputId": "e078c791-4da6-4b81-d93e-c13c8ccc57ef"
      },
      "source": [
        "for images, labels in train_loader:\r\n",
        "  outputs = model(images)\r\n",
        "  break\r\n",
        "\r\n",
        "print('outputs.shape: ', outputs.shape)\r\n",
        "print('Sample outputs: \\n', outputs[:2].data)"
      ],
      "execution_count": 53,
      "outputs": [
        {
          "output_type": "stream",
          "text": [
            "outputs.shape:  torch.Size([128, 10])\n",
            "Sample outputs: \n",
            " tensor([[-0.2742,  0.2847,  0.1792,  0.1487,  0.2939,  0.4726, -0.0379,  0.0444,\n",
            "          0.1572, -0.0007],\n",
            "        [-0.2195,  0.5749,  0.3289, -0.1866,  0.0665,  0.4205,  0.0470,  0.0503,\n",
            "          0.2557,  0.0519]])\n"
          ],
          "name": "stdout"
        }
      ]
    },
    {
      "cell_type": "code",
      "metadata": {
        "id": "VdS9jXjOQwsS"
      },
      "source": [
        "import torch.nn.functional as F"
      ],
      "execution_count": 54,
      "outputs": []
    },
    {
      "cell_type": "code",
      "metadata": {
        "colab": {
          "base_uri": "https://localhost:8080/"
        },
        "id": "DTINe7X-VR6z",
        "outputId": "911e1a19-8e89-468c-9253-3b7e5d56d68f"
      },
      "source": [
        "outputs[:2]"
      ],
      "execution_count": 55,
      "outputs": [
        {
          "output_type": "execute_result",
          "data": {
            "text/plain": [
              "tensor([[-0.2742,  0.2847,  0.1792,  0.1487,  0.2939,  0.4726, -0.0379,  0.0444,\n",
              "          0.1572, -0.0007],\n",
              "        [-0.2195,  0.5749,  0.3289, -0.1866,  0.0665,  0.4205,  0.0470,  0.0503,\n",
              "          0.2557,  0.0519]], grad_fn=<SliceBackward>)"
            ]
          },
          "metadata": {
            "tags": []
          },
          "execution_count": 55
        }
      ]
    },
    {
      "cell_type": "code",
      "metadata": {
        "colab": {
          "base_uri": "https://localhost:8080/"
        },
        "id": "h7r_gz4nVXDJ",
        "outputId": "cb023990-ab79-4f5b-a969-ece8ba6a68ce"
      },
      "source": [
        "# Apply softmax for each output row\r\n",
        "probs = F.softmax(outputs, dim=1)\r\n",
        "\r\n",
        "# Look at sample probabilities\r\n",
        "print(\"Sample probabilities:\\n\", probs[:2].data)\r\n",
        "\r\n",
        "# Add up the probabilities of an output row\r\n",
        "print(\"Sum: \", torch.sum(probs[0]).item())"
      ],
      "execution_count": 58,
      "outputs": [
        {
          "output_type": "stream",
          "text": [
            "Sample probabilities:\n",
            " tensor([[0.0657, 0.1149, 0.1034, 0.1003, 0.1160, 0.1387, 0.0832, 0.0904, 0.1011,\n",
            "         0.0864],\n",
            "        [0.0678, 0.1501, 0.1174, 0.0701, 0.0903, 0.1287, 0.0886, 0.0889, 0.1091,\n",
            "         0.0890]])\n",
            "Sum:  1.0\n"
          ],
          "name": "stdout"
        }
      ]
    },
    {
      "cell_type": "code",
      "metadata": {
        "colab": {
          "base_uri": "https://localhost:8080/"
        },
        "id": "HTTZqUxqVg4y",
        "outputId": "7074079d-d9b8-4024-f8d3-05bb11b7561e"
      },
      "source": [
        "max_probs, preds = torch.max(probs, dim=1)\r\n",
        "print(preds)\r\n",
        "print(max_probs)"
      ],
      "execution_count": 59,
      "outputs": [
        {
          "output_type": "stream",
          "text": [
            "tensor([5, 1, 1, 5, 5, 2, 4, 5, 5, 1, 1, 5, 1, 5, 1, 5, 1, 2, 8, 2, 4, 5, 1, 4,\n",
            "        5, 1, 0, 5, 5, 2, 8, 5, 4, 2, 1, 1, 1, 5, 1, 2, 5, 1, 5, 1, 1, 5, 1, 5,\n",
            "        5, 1, 1, 1, 8, 5, 5, 1, 1, 1, 1, 2, 1, 8, 5, 1, 1, 5, 5, 1, 1, 9, 2, 5,\n",
            "        4, 8, 1, 1, 4, 1, 1, 5, 2, 1, 5, 1, 5, 4, 5, 5, 1, 1, 1, 5, 1, 5, 8, 5,\n",
            "        5, 1, 5, 4, 5, 5, 1, 7, 1, 8, 5, 1, 1, 5, 4, 5, 1, 1, 1, 8, 5, 5, 1, 1,\n",
            "        1, 8, 2, 2, 1, 1, 1, 4])\n",
            "tensor([0.1387, 0.1501, 0.1425, 0.1405, 0.1354, 0.1377, 0.1199, 0.1464, 0.1437,\n",
            "        0.1276, 0.1398, 0.1205, 0.1406, 0.1294, 0.1511, 0.1413, 0.1486, 0.1210,\n",
            "        0.1208, 0.1248, 0.1316, 0.1300, 0.1411, 0.1241, 0.1296, 0.1262, 0.1170,\n",
            "        0.1280, 0.1366, 0.1296, 0.1186, 0.1228, 0.1232, 0.1217, 0.1214, 0.1349,\n",
            "        0.1510, 0.1178, 0.1186, 0.1282, 0.1228, 0.1418, 0.1205, 0.1469, 0.1404,\n",
            "        0.1273, 0.1277, 0.1296, 0.1380, 0.1443, 0.1276, 0.1517, 0.1383, 0.1257,\n",
            "        0.1170, 0.1355, 0.1194, 0.1146, 0.1269, 0.1301, 0.1519, 0.1218, 0.1212,\n",
            "        0.1564, 0.1279, 0.1204, 0.1321, 0.1161, 0.1540, 0.1255, 0.1332, 0.1355,\n",
            "        0.1180, 0.1430, 0.1405, 0.1425, 0.1274, 0.1542, 0.1553, 0.1375, 0.1189,\n",
            "        0.1250, 0.1572, 0.1215, 0.1253, 0.1189, 0.1287, 0.1496, 0.1249, 0.1439,\n",
            "        0.1338, 0.1212, 0.1408, 0.1267, 0.1330, 0.1502, 0.1361, 0.1403, 0.1405,\n",
            "        0.1157, 0.1581, 0.1245, 0.1221, 0.1274, 0.1568, 0.1279, 0.1255, 0.1401,\n",
            "        0.1483, 0.1399, 0.1356, 0.1311, 0.1191, 0.1384, 0.1252, 0.1153, 0.1511,\n",
            "        0.1149, 0.1297, 0.1625, 0.1175, 0.1204, 0.1216, 0.1406, 0.1415, 0.1315,\n",
            "        0.1382, 0.1430], grad_fn=<MaxBackward0>)\n"
          ],
          "name": "stdout"
        }
      ]
    },
    {
      "cell_type": "code",
      "metadata": {
        "colab": {
          "base_uri": "https://localhost:8080/"
        },
        "id": "ub2SFaLfWQ4l",
        "outputId": "56730454-497c-4493-a3db-8f85f8078536"
      },
      "source": [
        "labels"
      ],
      "execution_count": 60,
      "outputs": [
        {
          "output_type": "execute_result",
          "data": {
            "text/plain": [
              "tensor([5, 9, 5, 4, 3, 3, 5, 8, 0, 8, 6, 0, 3, 7, 8, 7, 4, 1, 2, 5, 5, 6, 7, 4,\n",
              "        6, 5, 4, 7, 6, 4, 9, 5, 8, 1, 1, 4, 5, 0, 3, 3, 0, 2, 0, 9, 7, 1, 4, 3,\n",
              "        3, 0, 6, 9, 0, 4, 1, 2, 1, 1, 9, 6, 3, 7, 8, 8, 9, 0, 0, 1, 7, 5, 5, 6,\n",
              "        0, 3, 9, 3, 4, 7, 2, 0, 7, 1, 7, 5, 2, 7, 7, 2, 1, 3, 5, 7, 8, 5, 0, 6,\n",
              "        6, 2, 8, 2, 8, 6, 2, 5, 7, 9, 1, 2, 9, 5, 0, 3, 6, 9, 1, 0, 9, 4, 7, 8,\n",
              "        2, 6, 1, 8, 9, 1, 7, 0])"
            ]
          },
          "metadata": {
            "tags": []
          },
          "execution_count": 60
        }
      ]
    },
    {
      "cell_type": "code",
      "metadata": {
        "colab": {
          "base_uri": "https://localhost:8080/"
        },
        "id": "O1u_EA-EWUrE",
        "outputId": "315121ea-e71a-41b4-ab9b-e65e1f3d5f32"
      },
      "source": [
        "outputs[:2]"
      ],
      "execution_count": 61,
      "outputs": [
        {
          "output_type": "execute_result",
          "data": {
            "text/plain": [
              "tensor([[-0.2742,  0.2847,  0.1792,  0.1487,  0.2939,  0.4726, -0.0379,  0.0444,\n",
              "          0.1572, -0.0007],\n",
              "        [-0.2195,  0.5749,  0.3289, -0.1866,  0.0665,  0.4205,  0.0470,  0.0503,\n",
              "          0.2557,  0.0519]], grad_fn=<SliceBackward>)"
            ]
          },
          "metadata": {
            "tags": []
          },
          "execution_count": 61
        }
      ]
    },
    {
      "cell_type": "code",
      "metadata": {
        "colab": {
          "base_uri": "https://localhost:8080/"
        },
        "id": "iUeoUsUVWYRh",
        "outputId": "25090505-2c99-40b4-ef80-b3c4cc1aa3dd"
      },
      "source": [
        "torch.sum(preds == labels)"
      ],
      "execution_count": 62,
      "outputs": [
        {
          "output_type": "execute_result",
          "data": {
            "text/plain": [
              "tensor(14)"
            ]
          },
          "metadata": {
            "tags": []
          },
          "execution_count": 62
        }
      ]
    },
    {
      "cell_type": "code",
      "metadata": {
        "id": "Nq3DT2AQWeWE"
      },
      "source": [
        "def accuracy(outputs, labels):\r\n",
        "    _, preds = torch.max(outputs, dim=1)\r\n",
        "    return torch.tensor(torch.sum(preds == labels).item() / len(preds))"
      ],
      "execution_count": 63,
      "outputs": []
    },
    {
      "cell_type": "code",
      "metadata": {
        "colab": {
          "base_uri": "https://localhost:8080/"
        },
        "id": "MFfEdS2_Wjyj",
        "outputId": "5388bc8c-23e8-4962-92dc-833cf6c53d56"
      },
      "source": [
        "accuracy(outputs, labels)"
      ],
      "execution_count": 64,
      "outputs": [
        {
          "output_type": "execute_result",
          "data": {
            "text/plain": [
              "tensor(0.1094)"
            ]
          },
          "metadata": {
            "tags": []
          },
          "execution_count": 64
        }
      ]
    },
    {
      "cell_type": "code",
      "metadata": {
        "colab": {
          "base_uri": "https://localhost:8080/"
        },
        "id": "XrCxRgyXWnFq",
        "outputId": "c3f57190-3423-450b-df4d-a75c9c2084ae"
      },
      "source": [
        "probs"
      ],
      "execution_count": 65,
      "outputs": [
        {
          "output_type": "execute_result",
          "data": {
            "text/plain": [
              "tensor([[0.0657, 0.1149, 0.1034,  ..., 0.0904, 0.1011, 0.0864],\n",
              "        [0.0678, 0.1501, 0.1174,  ..., 0.0889, 0.1091, 0.0890],\n",
              "        [0.0808, 0.1425, 0.0987,  ..., 0.0945, 0.1157, 0.1057],\n",
              "        ...,\n",
              "        [0.0849, 0.1315, 0.1125,  ..., 0.1007, 0.1042, 0.0963],\n",
              "        [0.1069, 0.1382, 0.1009,  ..., 0.0784, 0.0950, 0.1027],\n",
              "        [0.0705, 0.0946, 0.0931,  ..., 0.0981, 0.1143, 0.0815]],\n",
              "       grad_fn=<SoftmaxBackward>)"
            ]
          },
          "metadata": {
            "tags": []
          },
          "execution_count": 65
        }
      ]
    },
    {
      "cell_type": "code",
      "metadata": {
        "colab": {
          "base_uri": "https://localhost:8080/"
        },
        "id": "rPnmWYtyWqzR",
        "outputId": "7446a32f-3d1f-4756-9714-01f06a5fc7ec"
      },
      "source": [
        "outputs"
      ],
      "execution_count": 66,
      "outputs": [
        {
          "output_type": "execute_result",
          "data": {
            "text/plain": [
              "tensor([[-2.7422e-01,  2.8472e-01,  1.7922e-01,  ...,  4.4355e-02,\n",
              "          1.5719e-01, -6.5837e-04],\n",
              "        [-2.1948e-01,  5.7490e-01,  3.2885e-01,  ...,  5.0274e-02,\n",
              "          2.5570e-01,  5.1926e-02],\n",
              "        [-3.4180e-02,  5.3254e-01,  1.6500e-01,  ...,  1.2228e-01,\n",
              "          3.2467e-01,  2.3403e-01],\n",
              "        ...,\n",
              "        [-1.2611e-01,  3.1172e-01,  1.5598e-01,  ...,  4.5152e-02,\n",
              "          7.8969e-02, -2.2820e-04],\n",
              "        [ 1.6926e-01,  4.2650e-01,  1.1204e-01,  ..., -1.4032e-01,\n",
              "          5.1151e-02,  1.2950e-01],\n",
              "        [-1.6848e-01,  1.2472e-01,  1.0915e-01,  ...,  1.6176e-01,\n",
              "          3.1467e-01, -2.3877e-02]], grad_fn=<AddmmBackward>)"
            ]
          },
          "metadata": {
            "tags": []
          },
          "execution_count": 66
        }
      ]
    },
    {
      "cell_type": "code",
      "metadata": {
        "id": "S4urcIyWWvVL"
      },
      "source": [
        "loss_fn = F.cross_entropy"
      ],
      "execution_count": 69,
      "outputs": []
    },
    {
      "cell_type": "code",
      "metadata": {
        "colab": {
          "base_uri": "https://localhost:8080/"
        },
        "id": "i2w5WHiQW187",
        "outputId": "f2568cb0-3a90-4c6c-ba02-c2abe86c784a"
      },
      "source": [
        "loss = loss_fn(outputs, labels)\r\n",
        "print(loss)"
      ],
      "execution_count": 70,
      "outputs": [
        {
          "output_type": "stream",
          "text": [
            "tensor(2.3549, grad_fn=<NllLossBackward>)\n"
          ],
          "name": "stdout"
        }
      ]
    },
    {
      "cell_type": "code",
      "metadata": {
        "id": "7uNgCMe-W5Ey"
      },
      "source": [
        "def fit(epochs, lr, model, train_loader, val_loader, opt_func=torch.optim.SGD):\r\n",
        "    optimizer = opt_func(model.parameters(), lr)\r\n",
        "    history = [] \r\n",
        "    \r\n",
        "    for epoch in range(epochs):\r\n",
        "        \r\n",
        "        # Training Phase \r\n",
        "        for batch in train_loader:\r\n",
        "            loss = model.training_step(batch)\r\n",
        "            loss.backward()\r\n",
        "            optimizer.step()\r\n",
        "            optimizer.zero_grad()\r\n",
        "        \r\n",
        "        # Validation phase\r\n",
        "        result = evaluate(model, val_loader)\r\n",
        "        model.epoch_end(epoch, result)\r\n",
        "        history.append(result)\r\n",
        "\r\n",
        "    return history"
      ],
      "execution_count": 71,
      "outputs": []
    },
    {
      "cell_type": "code",
      "metadata": {
        "id": "ZR4ABbSJXnAr"
      },
      "source": [
        "def evaluate(model, val_loader):\r\n",
        "    outputs = [model.validation_step(batch) for batch in val_loader]\r\n",
        "    return model.validation_epoch_end(outputs)"
      ],
      "execution_count": 72,
      "outputs": []
    },
    {
      "cell_type": "code",
      "metadata": {
        "id": "BmZtHJVTXqyx"
      },
      "source": [
        "class MnistModel(nn.Module):\r\n",
        "    def __init__(self):\r\n",
        "        super().__init__()\r\n",
        "        self.linear = nn.Linear(input_size, num_classes)\r\n",
        "        \r\n",
        "    def forward(self, xb):\r\n",
        "        xb = xb.reshape(-1, 784)\r\n",
        "        out = self.linear(xb)\r\n",
        "        return out\r\n",
        "    \r\n",
        "    def training_step(self, batch):\r\n",
        "        images, labels = batch \r\n",
        "        out = self(images)                  # Generate predictions\r\n",
        "        loss = F.cross_entropy(out, labels) # Calculate loss\r\n",
        "        return loss\r\n",
        "    \r\n",
        "    def validation_step(self, batch):\r\n",
        "        images, labels = batch \r\n",
        "        out = self(images)                    # Generate predictions\r\n",
        "        loss = F.cross_entropy(out, labels)   # Calculate loss\r\n",
        "        acc = accuracy(out, labels)           # Calculate accuracy\r\n",
        "        return {'val_loss': loss, 'val_acc': acc}\r\n",
        "        \r\n",
        "    def validation_epoch_end(self, outputs):\r\n",
        "        batch_losses = [x['val_loss'] for x in outputs]\r\n",
        "        epoch_loss = torch.stack(batch_losses).mean()   # Combine losses\r\n",
        "        batch_accs = [x['val_acc'] for x in outputs]\r\n",
        "        epoch_acc = torch.stack(batch_accs).mean()      # Combine accuracies\r\n",
        "        return {'val_loss': epoch_loss.item(), 'val_acc': epoch_acc.item()}\r\n",
        "    \r\n",
        "    def epoch_end(self, epoch, result):\r\n",
        "        print(\"Epoch [{}], val_loss: {:.4f}, val_acc: {:.4f}\".format(epoch, result['val_loss'], result['val_acc']))\r\n",
        "    \r\n",
        "model = MnistModel()"
      ],
      "execution_count": 73,
      "outputs": []
    },
    {
      "cell_type": "code",
      "metadata": {
        "colab": {
          "base_uri": "https://localhost:8080/"
        },
        "id": "W5CP9_GbX5Ve",
        "outputId": "7cd6e258-143d-4d4d-a279-dba52ce5fa49"
      },
      "source": [
        "result0 = evaluate(model, val_loader)\r\n",
        "result0"
      ],
      "execution_count": 74,
      "outputs": [
        {
          "output_type": "execute_result",
          "data": {
            "text/plain": [
              "{'val_acc': 0.1048259511590004, 'val_loss': 2.3117315769195557}"
            ]
          },
          "metadata": {
            "tags": []
          },
          "execution_count": 74
        }
      ]
    },
    {
      "cell_type": "code",
      "metadata": {
        "colab": {
          "base_uri": "https://localhost:8080/"
        },
        "id": "EgUK7FcSX82p",
        "outputId": "832f8deb-2caf-418d-db3f-ba643c55f378"
      },
      "source": [
        "history1 = fit(5, 0.001, model, train_loader, val_loader)"
      ],
      "execution_count": 75,
      "outputs": [
        {
          "output_type": "stream",
          "text": [
            "Epoch [0], val_loss: 1.9384, val_acc: 0.6346\n",
            "Epoch [1], val_loss: 1.6697, val_acc: 0.7205\n",
            "Epoch [2], val_loss: 1.4700, val_acc: 0.7581\n",
            "Epoch [3], val_loss: 1.3195, val_acc: 0.7812\n",
            "Epoch [4], val_loss: 1.2037, val_acc: 0.7959\n"
          ],
          "name": "stdout"
        }
      ]
    },
    {
      "cell_type": "code",
      "metadata": {
        "colab": {
          "base_uri": "https://localhost:8080/"
        },
        "id": "NUBu0bXVYAqt",
        "outputId": "e3d259fb-7646-43e8-a732-e92dc22c8f74"
      },
      "source": [
        "history2 = fit(5, 0.001, model, train_loader, val_loader)"
      ],
      "execution_count": 76,
      "outputs": [
        {
          "output_type": "stream",
          "text": [
            "Epoch [0], val_loss: 1.1127, val_acc: 0.8066\n",
            "Epoch [1], val_loss: 1.0398, val_acc: 0.8155\n",
            "Epoch [2], val_loss: 0.9801, val_acc: 0.8216\n",
            "Epoch [3], val_loss: 0.9304, val_acc: 0.8257\n",
            "Epoch [4], val_loss: 0.8883, val_acc: 0.8292\n"
          ],
          "name": "stdout"
        }
      ]
    },
    {
      "cell_type": "code",
      "metadata": {
        "colab": {
          "base_uri": "https://localhost:8080/"
        },
        "id": "N3HkL2W_YLWm",
        "outputId": "f9c1b3b6-b9e0-4d68-e039-63b05c87d131"
      },
      "source": [
        "history3 = fit(5, 0.001, model, train_loader, val_loader)"
      ],
      "execution_count": 77,
      "outputs": [
        {
          "output_type": "stream",
          "text": [
            "Epoch [0], val_loss: 0.8524, val_acc: 0.8315\n",
            "Epoch [1], val_loss: 0.8212, val_acc: 0.8357\n",
            "Epoch [2], val_loss: 0.7939, val_acc: 0.8398\n",
            "Epoch [3], val_loss: 0.7699, val_acc: 0.8424\n",
            "Epoch [4], val_loss: 0.7484, val_acc: 0.8447\n"
          ],
          "name": "stdout"
        }
      ]
    },
    {
      "cell_type": "code",
      "metadata": {
        "colab": {
          "base_uri": "https://localhost:8080/"
        },
        "id": "mhk0UZNjYRzM",
        "outputId": "24fc0121-e771-4d86-9233-7d74d1ec0a77"
      },
      "source": [
        "history4 = fit(5, 0.001, model, train_loader, val_loader)"
      ],
      "execution_count": 78,
      "outputs": [
        {
          "output_type": "stream",
          "text": [
            "Epoch [0], val_loss: 0.7292, val_acc: 0.8471\n",
            "Epoch [1], val_loss: 0.7119, val_acc: 0.8494\n",
            "Epoch [2], val_loss: 0.6962, val_acc: 0.8500\n",
            "Epoch [3], val_loss: 0.6818, val_acc: 0.8519\n",
            "Epoch [4], val_loss: 0.6687, val_acc: 0.8534\n"
          ],
          "name": "stdout"
        }
      ]
    },
    {
      "cell_type": "code",
      "metadata": {
        "colab": {
          "base_uri": "https://localhost:8080/",
          "height": 295
        },
        "id": "aWev1DfHYXaJ",
        "outputId": "84dc7057-989d-477c-aaa5-06fb8fa419a7"
      },
      "source": [
        "history = [result0] + history1 + history2 + history3 + history4\r\n",
        "accuracies = [result['val_acc'] for result in history]\r\n",
        "plt.plot(accuracies, '-x')\r\n",
        "plt.xlabel('epoch')\r\n",
        "plt.ylabel('accuracy')\r\n",
        "plt.title('Accuracy vs. No. of epochs');"
      ],
      "execution_count": 79,
      "outputs": [
        {
          "output_type": "display_data",
          "data": {
            "image/png": "[encoded data removed]",
            "text/plain": [
              "<Figure size 432x288 with 1 Axes>"
            ]
          },
          "metadata": {
            "tags": [],
            "needs_background": "light"
          }
        }
      ]
    },
    {
      "cell_type": "code",
      "metadata": {
        "id": "q2NkM8BTYdG4"
      },
      "source": [
        "test_dataset = MNIST(root='data/', \r\n",
        "                     train=False,\r\n",
        "                     transform=transforms.ToTensor())"
      ],
      "execution_count": 80,
      "outputs": []
    },
    {
      "cell_type": "code",
      "metadata": {
        "colab": {
          "base_uri": "https://localhost:8080/",
          "height": 300
        },
        "id": "6SdIMjX0Yk1e",
        "outputId": "3071cff6-2651-4d5e-b66a-4e44a25f76f0"
      },
      "source": [
        "img, label = test_dataset[0]\r\n",
        "plt.imshow(img[0], cmap='gray')\r\n",
        "print('Shape:', img.shape)\r\n",
        "print('Label:', label)"
      ],
      "execution_count": 82,
      "outputs": [
        {
          "output_type": "stream",
          "text": [
            "Shape: torch.Size([1, 28, 28])\n",
            "Label: 7\n"
          ],
          "name": "stdout"
        },
        {
          "output_type": "display_data",
          "data": {
            "image/png": "[encoded data removed]",
            "text/plain": [
              "<Figure size 432x288 with 1 Axes>"
            ]
          },
          "metadata": {
            "tags": [],
            "needs_background": "light"
          }
        }
      ]
    },
    {
      "cell_type": "code",
      "metadata": {
        "id": "TWg18LHoeov1"
      },
      "source": [
        "def predict_image(img, model):\r\n",
        "    xb = img.unsqueeze(0)\r\n",
        "    yb = model(xb)\r\n",
        "    _, preds = torch.max(yb, dim=1)\r\n",
        "    return preds[0].item()"
      ],
      "execution_count": 85,
      "outputs": []
    },
    {
      "cell_type": "code",
      "metadata": {
        "colab": {
          "base_uri": "https://localhost:8080/",
          "height": 283
        },
        "id": "I6cu7-Y6Yorq",
        "outputId": "203fa1d1-1205-403b-af40-9371834de127"
      },
      "source": [
        "img, label = test_dataset[10]\r\n",
        "plt.imshow(img[0], cmap='gray')\r\n",
        "print('Label:', label, ', Predicted:', predict_image(img, model))"
      ],
      "execution_count": 86,
      "outputs": [
        {
          "output_type": "stream",
          "text": [
            "Label: 0 , Predicted: 0\n"
          ],
          "name": "stdout"
        },
        {
          "output_type": "display_data",
          "data": {
            "image/png": "[encoded data removed]",
            "text/plain": [
              "<Figure size 432x288 with 1 Axes>"
            ]
          },
          "metadata": {
            "tags": [],
            "needs_background": "light"
          }
        }
      ]
    },
    {
      "cell_type": "code",
      "metadata": {
        "colab": {
          "base_uri": "https://localhost:8080/",
          "height": 283
        },
        "id": "pIyGBzVzeWoF",
        "outputId": "ee6ff468-be39-43e5-e270-9c8e45647011"
      },
      "source": [
        "img, label = test_dataset[193]\r\n",
        "plt.imshow(img[0], cmap='gray')\r\n",
        "print('Label:', label, ', Predicted:', predict_image(img, model))"
      ],
      "execution_count": 87,
      "outputs": [
        {
          "output_type": "stream",
          "text": [
            "Label: 9 , Predicted: 4\n"
          ],
          "name": "stdout"
        },
        {
          "output_type": "display_data",
          "data": {
            "image/png": "[encoded data removed]",
            "text/plain": [
              "<Figure size 432x288 with 1 Axes>"
            ]
          },
          "metadata": {
            "tags": [],
            "needs_background": "light"
          }
        }
      ]
    },
    {
      "cell_type": "code",
      "metadata": {
        "colab": {
          "base_uri": "https://localhost:8080/"
        },
        "id": "oYVgEBO2eZ5N",
        "outputId": "44dcd62e-3288-4f9e-bd72-bd65f74d8c7a"
      },
      "source": [
        "test_loader = DataLoader(test_dataset, batch_size=256)\r\n",
        "result = evaluate(model, test_loader)\r\n",
        "result"
      ],
      "execution_count": 88,
      "outputs": [
        {
          "output_type": "execute_result",
          "data": {
            "text/plain": [
              "{'val_acc': 0.86181640625, 'val_loss': 0.640030026435852}"
            ]
          },
          "metadata": {
            "tags": []
          },
          "execution_count": 88
        }
      ]
    },
    {
      "cell_type": "code",
      "metadata": {
        "id": "UxHjwea6euo8"
      },
      "source": [
        ""
      ],
      "execution_count": null,
      "outputs": []
    }
  ]
}